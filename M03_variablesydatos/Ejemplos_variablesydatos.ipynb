{
 "cells": [
  {
   "cell_type": "code",
   "execution_count": 18,
   "metadata": {},
   "outputs": [
    {
     "name": "stdout",
     "output_type": "stream",
     "text": [
      "10\n"
     ]
    }
   ],
   "source": [
    "a = 10 #Declarando una variable con un valor entero\n",
    "print (a)"
   ]
  },
  {
   "cell_type": "code",
   "execution_count": 13,
   "metadata": {},
   "outputs": [
    {
     "name": "stdout",
     "output_type": "stream",
     "text": [
      "<class 'int'>\n"
     ]
    },
    {
     "data": {
      "text/plain": [
       "int"
      ]
     },
     "execution_count": 13,
     "metadata": {},
     "output_type": "execute_result"
    }
   ],
   "source": [
    "print(type(a)) #Dos maneras distintas de validar tipo de dato\n",
    "type(a) #Verificando que tipo de dato es la variable a"
   ]
  },
  {
   "cell_type": "code",
   "execution_count": 16,
   "metadata": {},
   "outputs": [
    {
     "name": "stdout",
     "output_type": "stream",
     "text": [
      "Hola Mundo\n"
     ]
    }
   ],
   "source": [
    "b = \"Hola Mundo\" #Declarando variable con cadena de texto (str)\n",
    "print(b)"
   ]
  },
  {
   "cell_type": "code",
   "execution_count": 15,
   "metadata": {},
   "outputs": [
    {
     "name": "stdout",
     "output_type": "stream",
     "text": [
      "<class 'str'>\n"
     ]
    }
   ],
   "source": [
    "print(type(b))"
   ]
  },
  {
   "cell_type": "code",
   "execution_count": 17,
   "metadata": {},
   "outputs": [
    {
     "name": "stdout",
     "output_type": "stream",
     "text": [
      "0.23\n"
     ]
    }
   ],
   "source": [
    "d = 0.23 #Declarando una variable con un valor decimal (float)\n",
    "print(d)"
   ]
  },
  {
   "cell_type": "code",
   "execution_count": 19,
   "metadata": {},
   "outputs": [
    {
     "name": "stdout",
     "output_type": "stream",
     "text": [
      "<class 'float'>\n"
     ]
    }
   ],
   "source": [
    "print(type(d))"
   ]
  },
  {
   "cell_type": "code",
   "execution_count": 21,
   "metadata": {},
   "outputs": [
    {
     "name": "stdout",
     "output_type": "stream",
     "text": [
      "0.23\n"
     ]
    }
   ],
   "source": [
    "e = \"0.23\" #Declarando una cadena de datos que pareciera un float\n",
    "print(e)"
   ]
  },
  {
   "cell_type": "code",
   "execution_count": 22,
   "metadata": {},
   "outputs": [
    {
     "name": "stdout",
     "output_type": "stream",
     "text": [
      "<class 'str'>\n"
     ]
    }
   ],
   "source": [
    "print(type(e))"
   ]
  },
  {
   "cell_type": "code",
   "execution_count": 23,
   "metadata": {},
   "outputs": [
    {
     "name": "stdout",
     "output_type": "stream",
     "text": [
      "True\n"
     ]
    }
   ],
   "source": [
    "verdadero = True #Declarando una variable booleana\n",
    "print(verdadero)"
   ]
  },
  {
   "cell_type": "code",
   "execution_count": 24,
   "metadata": {},
   "outputs": [
    {
     "name": "stdout",
     "output_type": "stream",
     "text": [
      "<class 'bool'>\n"
     ]
    }
   ],
   "source": [
    "print(type(verdadero))"
   ]
  },
  {
   "cell_type": "code",
   "execution_count": 25,
   "metadata": {},
   "outputs": [
    {
     "name": "stdout",
     "output_type": "stream",
     "text": [
      "7\n"
     ]
    }
   ],
   "source": [
    "x = 7\n",
    "print(x)"
   ]
  },
  {
   "cell_type": "code",
   "execution_count": 26,
   "metadata": {},
   "outputs": [
    {
     "name": "stdout",
     "output_type": "stream",
     "text": [
      "9\n"
     ]
    }
   ],
   "source": [
    "#x = x + 2\n",
    "x += 2\n",
    "print(x)"
   ]
  },
  {
   "cell_type": "code",
   "execution_count": 27,
   "metadata": {},
   "outputs": [
    {
     "name": "stdout",
     "output_type": "stream",
     "text": [
      "7\n"
     ]
    }
   ],
   "source": [
    "x -= 2\n",
    "print(x)"
   ]
  },
  {
   "cell_type": "code",
   "execution_count": 28,
   "metadata": {},
   "outputs": [
    {
     "name": "stdout",
     "output_type": "stream",
     "text": [
      "21\n"
     ]
    }
   ],
   "source": [
    "x *= 3\n",
    "print(x)"
   ]
  },
  {
   "cell_type": "code",
   "execution_count": 29,
   "metadata": {},
   "outputs": [],
   "source": [
    "x = 3\n",
    "y = 12"
   ]
  },
  {
   "cell_type": "code",
   "execution_count": 30,
   "metadata": {},
   "outputs": [
    {
     "name": "stdout",
     "output_type": "stream",
     "text": [
      "15\n"
     ]
    }
   ],
   "source": [
    "print(x + y)"
   ]
  },
  {
   "cell_type": "code",
   "execution_count": 31,
   "metadata": {},
   "outputs": [
    {
     "name": "stdout",
     "output_type": "stream",
     "text": [
      "-9\n"
     ]
    }
   ],
   "source": [
    "print(x - y)"
   ]
  },
  {
   "cell_type": "code",
   "execution_count": 32,
   "metadata": {},
   "outputs": [
    {
     "name": "stdout",
     "output_type": "stream",
     "text": [
      "1728\n"
     ]
    }
   ],
   "source": [
    "#Potencia\n",
    "print(y ** x)"
   ]
  },
  {
   "cell_type": "code",
   "execution_count": 33,
   "metadata": {},
   "outputs": [
    {
     "name": "stdout",
     "output_type": "stream",
     "text": [
      "1\n"
     ]
    }
   ],
   "source": [
    "#Devolver el resto de una división\n",
    "x = 13\n",
    "y = 3\n",
    "print(x % y)"
   ]
  },
  {
   "cell_type": "code",
   "execution_count": 34,
   "metadata": {},
   "outputs": [
    {
     "name": "stdout",
     "output_type": "stream",
     "text": [
      "4\n"
     ]
    }
   ],
   "source": [
    "#Parte entera de la división\n",
    "print(x // y)"
   ]
  },
  {
   "cell_type": "code",
   "execution_count": 39,
   "metadata": {},
   "outputs": [
    {
     "data": {
      "text/plain": [
       "False"
      ]
     },
     "execution_count": 39,
     "metadata": {},
     "output_type": "execute_result"
    }
   ],
   "source": [
    "x = 13\n",
    "y = 3\n",
    "#print(x == y)\n",
    "x == y #¿x es igual a y?"
   ]
  },
  {
   "cell_type": "code",
   "execution_count": 38,
   "metadata": {},
   "outputs": [
    {
     "name": "stdout",
     "output_type": "stream",
     "text": [
      "True\n"
     ]
    }
   ],
   "source": [
    "print(x != y) #¿x es distinto de y?"
   ]
  },
  {
   "cell_type": "code",
   "execution_count": 40,
   "metadata": {},
   "outputs": [
    {
     "name": "stdout",
     "output_type": "stream",
     "text": [
      "True\n"
     ]
    }
   ],
   "source": [
    "print(x > y) #¿x es mayor que y?"
   ]
  },
  {
   "cell_type": "code",
   "execution_count": 41,
   "metadata": {},
   "outputs": [
    {
     "name": "stdout",
     "output_type": "stream",
     "text": [
      "False\n"
     ]
    }
   ],
   "source": [
    "print(x < y) #¿x es menor que y?"
   ]
  },
  {
   "cell_type": "code",
   "execution_count": 42,
   "metadata": {},
   "outputs": [
    {
     "name": "stdout",
     "output_type": "stream",
     "text": [
      "Hola Mundo!\n"
     ]
    }
   ],
   "source": [
    "a = \"Hola \"\n",
    "b = \"Mundo!\"\n",
    "\n",
    "print(a + b) #Concatenación de strings"
   ]
  },
  {
   "cell_type": "code",
   "execution_count": 43,
   "metadata": {},
   "outputs": [
    {
     "name": "stdout",
     "output_type": "stream",
     "text": [
      "ja! ja! ja! \n"
     ]
    }
   ],
   "source": [
    "c = \"ja! \"\n",
    "d = c * 3\n",
    "print(d)"
   ]
  },
  {
   "cell_type": "code",
   "execution_count": 45,
   "metadata": {},
   "outputs": [
    {
     "ename": "TypeError",
     "evalue": "can only concatenate str (not \"int\") to str",
     "output_type": "error",
     "traceback": [
      "\u001b[1;31m---------------------------------------------------------------------------\u001b[0m",
      "\u001b[1;31mTypeError\u001b[0m                                 Traceback (most recent call last)",
      "Cell \u001b[1;32mIn[45], line 2\u001b[0m\n\u001b[0;32m      1\u001b[0m c \u001b[39m=\u001b[39m \u001b[39m\"\u001b[39m\u001b[39mja! \u001b[39m\u001b[39m\"\u001b[39m\n\u001b[1;32m----> 2\u001b[0m d \u001b[39m=\u001b[39m c \u001b[39m+\u001b[39;49m \u001b[39m3\u001b[39;49m \u001b[39m#Es imposible concatenar texto y enteros\u001b[39;00m\n\u001b[0;32m      3\u001b[0m \u001b[39mprint\u001b[39m(d)\n",
      "\u001b[1;31mTypeError\u001b[0m: can only concatenate str (not \"int\") to str"
     ]
    }
   ],
   "source": [
    "c = \"ja! \"\n",
    "d = c + 3 #Es imposible concatenar texto y enteros\n",
    "print(d)"
   ]
  },
  {
   "cell_type": "code",
   "execution_count": 46,
   "metadata": {},
   "outputs": [
    {
     "name": "stdout",
     "output_type": "stream",
     "text": [
      "False\n"
     ]
    }
   ],
   "source": [
    "#AND\n",
    "x = 5\n",
    "y = 12\n",
    "print(x>0 and y<10)"
   ]
  },
  {
   "cell_type": "code",
   "execution_count": 47,
   "metadata": {},
   "outputs": [
    {
     "name": "stdout",
     "output_type": "stream",
     "text": [
      "True\n"
     ]
    }
   ],
   "source": [
    "print(x>0 and y>10) #AND"
   ]
  },
  {
   "cell_type": "code",
   "execution_count": 48,
   "metadata": {},
   "outputs": [
    {
     "name": "stdout",
     "output_type": "stream",
     "text": [
      "True\n"
     ]
    }
   ],
   "source": [
    "#OR\n",
    "print(x>0 or y<10)"
   ]
  },
  {
   "attachments": {},
   "cell_type": "markdown",
   "metadata": {},
   "source": [
    "Conversión de tipo de datos"
   ]
  },
  {
   "cell_type": "code",
   "execution_count": 49,
   "metadata": {},
   "outputs": [],
   "source": [
    "a = \"2\"\n",
    "b = 2"
   ]
  },
  {
   "cell_type": "code",
   "execution_count": 50,
   "metadata": {},
   "outputs": [
    {
     "name": "stdout",
     "output_type": "stream",
     "text": [
      "<class 'str'>\n"
     ]
    }
   ],
   "source": [
    "print(type(a))"
   ]
  },
  {
   "cell_type": "code",
   "execution_count": 51,
   "metadata": {},
   "outputs": [
    {
     "name": "stdout",
     "output_type": "stream",
     "text": [
      "<class 'int'>\n"
     ]
    }
   ],
   "source": [
    "print(type(b))"
   ]
  },
  {
   "cell_type": "code",
   "execution_count": 52,
   "metadata": {},
   "outputs": [
    {
     "name": "stdout",
     "output_type": "stream",
     "text": [
      "<class 'int'>\n"
     ]
    }
   ],
   "source": [
    "c = int(a) #Es necesario guardar la conversión en una variable\n",
    "print(type(c))"
   ]
  },
  {
   "cell_type": "code",
   "execution_count": 53,
   "metadata": {},
   "outputs": [
    {
     "name": "stdout",
     "output_type": "stream",
     "text": [
      "0.24\n",
      "<class 'float'>\n"
     ]
    }
   ],
   "source": [
    "d = \"0.24\"\n",
    "e = float(d)\n",
    "print(e)\n",
    "print(type(e))"
   ]
  },
  {
   "cell_type": "code",
   "execution_count": 55,
   "metadata": {},
   "outputs": [
    {
     "ename": "ValueError",
     "evalue": "could not convert string to float: '2,5'",
     "output_type": "error",
     "traceback": [
      "\u001b[1;31m---------------------------------------------------------------------------\u001b[0m",
      "\u001b[1;31mValueError\u001b[0m                                Traceback (most recent call last)",
      "Cell \u001b[1;32mIn[55], line 2\u001b[0m\n\u001b[0;32m      1\u001b[0m f \u001b[39m=\u001b[39m \u001b[39m\"\u001b[39m\u001b[39m2,5\u001b[39m\u001b[39m\"\u001b[39m\n\u001b[1;32m----> 2\u001b[0m g \u001b[39m=\u001b[39m \u001b[39mfloat\u001b[39;49m(f) \u001b[39m#Python admite los valores float con punto no con coma\u001b[39;00m\n",
      "\u001b[1;31mValueError\u001b[0m: could not convert string to float: '2,5'"
     ]
    }
   ],
   "source": [
    "f = \"2,5\"\n",
    "g = float(f) #Python admite los valores float con punto no con coma"
   ]
  },
  {
   "attachments": {},
   "cell_type": "markdown",
   "metadata": {},
   "source": [
    "Números complejos"
   ]
  },
  {
   "cell_type": "code",
   "execution_count": 62,
   "metadata": {},
   "outputs": [
    {
     "name": "stdout",
     "output_type": "stream",
     "text": [
      "(5+10j)\n",
      "(2+7j)\n"
     ]
    }
   ],
   "source": [
    "#Dos maneras distintas de crear números complejos\n",
    "a = 5 + 10j\n",
    "b = complex(2, 7) #Creación de un número complejo con la función complex sin utilizar la j\n",
    "print(a)\n",
    "print(b)"
   ]
  },
  {
   "cell_type": "code",
   "execution_count": 58,
   "metadata": {},
   "outputs": [],
   "source": [
    "#Ejemplos\n",
    "a = 5 + 5j\n",
    "b = 1.3 - 7j\n",
    "c = 10.3j #Número complejo con parte real igual a cero"
   ]
  },
  {
   "cell_type": "code",
   "execution_count": 60,
   "metadata": {},
   "outputs": [
    {
     "name": "stdout",
     "output_type": "stream",
     "text": [
      "(3+5j)\n",
      "<class 'complex'>\n"
     ]
    }
   ],
   "source": [
    "c = 3 + 5j\n",
    "print(c)\n",
    "print(type(c))"
   ]
  },
  {
   "cell_type": "code",
   "execution_count": 61,
   "metadata": {},
   "outputs": [
    {
     "name": "stdout",
     "output_type": "stream",
     "text": [
      "3.0\n",
      "5.0\n",
      "(3+5j)\n"
     ]
    }
   ],
   "source": [
    "c = 3 + 5j\n",
    "print(c.real) #Parte real\n",
    "print(c.imag) #Parte imaginaria\n",
    "print(c)"
   ]
  },
  {
   "attachments": {},
   "cell_type": "markdown",
   "metadata": {},
   "source": [
    "Operaciones con números complejos"
   ]
  },
  {
   "cell_type": "code",
   "execution_count": 63,
   "metadata": {},
   "outputs": [
    {
     "name": "stdout",
     "output_type": "stream",
     "text": [
      "(5+4j)\n"
     ]
    }
   ],
   "source": [
    "#Suma de complejos\n",
    "a = 1 + 3j\n",
    "b = 4 + 1j\n",
    "print (a+b)"
   ]
  },
  {
   "cell_type": "code",
   "execution_count": 64,
   "metadata": {},
   "outputs": [
    {
     "name": "stdout",
     "output_type": "stream",
     "text": [
      "(-3+2j)\n"
     ]
    }
   ],
   "source": [
    "#Resta de complejos\n",
    "a = 1 + 3j\n",
    "b = 4 + 1j\n",
    "print(a - b)"
   ]
  },
  {
   "cell_type": "code",
   "execution_count": 65,
   "metadata": {},
   "outputs": [
    {
     "name": "stdout",
     "output_type": "stream",
     "text": [
      "(1+13j)\n"
     ]
    }
   ],
   "source": [
    "#Multiplicación de complejos\n",
    "a = 1 + 3j\n",
    "b = 4 + 1j\n",
    "print(a * b)"
   ]
  },
  {
   "cell_type": "code",
   "execution_count": 66,
   "metadata": {},
   "outputs": [
    {
     "name": "stdout",
     "output_type": "stream",
     "text": [
      "(0.4117647058823529+0.6470588235294118j)\n"
     ]
    }
   ],
   "source": [
    "#División de complejos\n",
    "print(a / b)"
   ]
  },
  {
   "cell_type": "code",
   "execution_count": 67,
   "metadata": {},
   "outputs": [
    {
     "name": "stdout",
     "output_type": "stream",
     "text": [
      "(1-1j)\n"
     ]
    }
   ],
   "source": [
    "#Conjugado de complejos\n",
    "a = 1 + 1j\n",
    "print(a.conjugate())"
   ]
  },
  {
   "attachments": {},
   "cell_type": "markdown",
   "metadata": {},
   "source": [
    "Redondear valores numéricos"
   ]
  },
  {
   "cell_type": "code",
   "execution_count": 68,
   "metadata": {},
   "outputs": [
    {
     "name": "stdout",
     "output_type": "stream",
     "text": [
      "1\n"
     ]
    }
   ],
   "source": [
    "#Función round\n",
    "a = 1.4591\n",
    "a_redondeado = round(a) #Redondea el número basado en su parte decimal\n",
    "print(round(a))"
   ]
  },
  {
   "cell_type": "code",
   "execution_count": 69,
   "metadata": {},
   "outputs": [
    {
     "name": "stdout",
     "output_type": "stream",
     "text": [
      "1\n",
      "2\n"
     ]
    }
   ],
   "source": [
    "#Función floor y ceil\n",
    "import math #Es necesario importar la librería math para el uso de floor y ceil\n",
    "a_redondeadoabajo = math.floor(a) #Redondea hacia abajo\n",
    "a_redondeadoarriba = math.ceil(a) #Redondea hacia arriba\n",
    "print(a_redondeadoabajo)\n",
    "print(a_redondeadoarriba)"
   ]
  },
  {
   "cell_type": "code",
   "execution_count": 70,
   "metadata": {},
   "outputs": [
    {
     "name": "stdout",
     "output_type": "stream",
     "text": [
      "15.85\n"
     ]
    }
   ],
   "source": [
    "#Redondear a 2 decimales o más\n",
    "a = 15.8524763\n",
    "a_redondeado = round(a, 2) #Se utiliza el round(número a redondear, decimales).\n",
    "print(a_redondeado)"
   ]
  },
  {
   "attachments": {},
   "cell_type": "markdown",
   "metadata": {},
   "source": [
    "Escribir Pi en Python"
   ]
  },
  {
   "cell_type": "code",
   "execution_count": 72,
   "metadata": {},
   "outputs": [
    {
     "name": "stdout",
     "output_type": "stream",
     "text": [
      "3.141592653589793\n"
     ]
    }
   ],
   "source": [
    "#El valor de Pi se asigna a la constante math.pi del módulo math\n",
    "import math\n",
    "pi = math.pi\n",
    "print(pi)"
   ]
  },
  {
   "attachments": {},
   "cell_type": "markdown",
   "metadata": {},
   "source": [
    "Números binarios y operadores bit a bit o bitwise operators"
   ]
  },
  {
   "cell_type": "code",
   "execution_count": 73,
   "metadata": {},
   "outputs": [
    {
     "name": "stdout",
     "output_type": "stream",
     "text": [
      "0b11011\n"
     ]
    }
   ],
   "source": [
    "#Convertir número decimal a binario\n",
    "print(bin(27))"
   ]
  },
  {
   "cell_type": "code",
   "execution_count": 84,
   "metadata": {},
   "outputs": [
    {
     "name": "stdout",
     "output_type": "stream",
     "text": [
      "9\n",
      "0b1001\n"
     ]
    }
   ],
   "source": [
    "#Operador & (AND), si ambos bits correspondientes son 1, el resultado es 1\n",
    "a = 0b1101\n",
    "b = 0b1011\n",
    "print((a & b)) #Imprime un número decimal a pesar de haber hecho la operación con números binarios (bit a bit). Arroja 9 ya que 0b1001 es 9 en numeración decimal\n",
    "print(bin(a & b)) #Da el resultado en numeración binaria\n"
   ]
  },
  {
   "cell_type": "code",
   "execution_count": 76,
   "metadata": {},
   "outputs": [
    {
     "name": "stdout",
     "output_type": "stream",
     "text": [
      "0b1111\n"
     ]
    }
   ],
   "source": [
    "#Operador | (OR), el resultado es 1 si al menos uno de los bits correspondientes es 1\n",
    "a = 0b1101\n",
    "b = 0b1011\n",
    "print(bin(a | b))"
   ]
  },
  {
   "cell_type": "code",
   "execution_count": 80,
   "metadata": {},
   "outputs": [
    {
     "name": "stdout",
     "output_type": "stream",
     "text": [
      "0b1100\n"
     ]
    }
   ],
   "source": [
    "#Operador ^ (XOR), el resultado es 1 si exactamente uno de los bits correspondientes es 1\n",
    "x = 0b0110 ^ 0b1010\n",
    "print(bin(x))"
   ]
  },
  {
   "cell_type": "code",
   "execution_count": 78,
   "metadata": {},
   "outputs": [
    {
     "name": "stdout",
     "output_type": "stream",
     "text": [
      "0b101000\n",
      "-0b101001\n"
     ]
    }
   ],
   "source": [
    "#Operador ~ (NOT), invierte el valor de cada bit (Python hace algo distinto de lo esperado)\n",
    "a = 40\n",
    "print(bin(a))\n",
    "print(bin(~a))"
   ]
  },
  {
   "cell_type": "code",
   "execution_count": 82,
   "metadata": {},
   "outputs": [
    {
     "name": "stdout",
     "output_type": "stream",
     "text": [
      "0b10\n"
     ]
    }
   ],
   "source": [
    "#Operador >> (Desplazamiento a la derecha), desplaza los bits n unidades a la derecha\n",
    "a = 0b1000\n",
    "print(bin(a >> 2)) #(número >> n desplazamientos a la derecha)"
   ]
  },
  {
   "cell_type": "code",
   "execution_count": 83,
   "metadata": {},
   "outputs": [
    {
     "name": "stdout",
     "output_type": "stream",
     "text": [
      "0b1000\n"
     ]
    }
   ],
   "source": [
    "#Operador << (Desplazamiento a la izquierda), desplaza los bits n unidades a la izquierda\n",
    "a = 0b0001\n",
    "print(bin(a << 3))"
   ]
  },
  {
   "attachments": {},
   "cell_type": "markdown",
   "metadata": {},
   "source": [
    "Cadenas de texto"
   ]
  },
  {
   "cell_type": "code",
   "execution_count": 86,
   "metadata": {},
   "outputs": [
    {
     "name": "stdout",
     "output_type": "stream",
     "text": [
      "Vanesa di'tilio\n",
      "Vanesa di'tilio\n"
     ]
    }
   ],
   "source": [
    "#Uso de comilla simple en cadena de texto\n",
    "nombre = \"Vanesa di'tilio\" #Utilizar doble comilla para poder utilizar comilla simple en la cadena de texto\n",
    "nombre_1 = 'Vanesa di\\'tilio' #La barra diagonal inversa impide considere la comilla simple (') el fin de la cadena de texto\n",
    "print(nombre)\n",
    "print(nombre_1)"
   ]
  },
  {
   "attachments": {},
   "cell_type": "markdown",
   "metadata": {},
   "source": [
    "Distintas maneras de dar formato a distintas variables"
   ]
  },
  {
   "cell_type": "code",
   "execution_count": 87,
   "metadata": {},
   "outputs": [
    {
     "name": "stdout",
     "output_type": "stream",
     "text": [
      "Hola Mundo!Hola Mundo!Hola Mundo!\n"
     ]
    }
   ],
   "source": [
    "frase = \"Hola Mundo!\"\n",
    "val = 3\n",
    "print(frase * 3)"
   ]
  },
  {
   "cell_type": "code",
   "execution_count": 88,
   "metadata": {},
   "outputs": [
    {
     "name": "stdout",
     "output_type": "stream",
     "text": [
      "Hola Mundo! 3 veces\n"
     ]
    }
   ],
   "source": [
    "print(frase, (val), \"veces\") #Si se imprime con comas en lugar de suma, imprime un espacio entre variables y a su vez se puede combinar números con cadena de texto"
   ]
  },
  {
   "cell_type": "code",
   "execution_count": 90,
   "metadata": {},
   "outputs": [
    {
     "name": "stdout",
     "output_type": "stream",
     "text": [
      "Hola Mundo!3veces\n"
     ]
    }
   ],
   "source": [
    "frase_1 = frase + str(val) + \"veces\" #Concatenando, ausencia de espacios entre cadenas y no permite distintas variables\n",
    "print(frase_1)"
   ]
  },
  {
   "cell_type": "code",
   "execution_count": 91,
   "metadata": {},
   "outputs": [
    {
     "name": "stdout",
     "output_type": "stream",
     "text": [
      "Hola Mundo! 3 veces\n"
     ]
    }
   ],
   "source": [
    "frase_2 = f\"{frase} {val} veces\" #f-strings da formato a cadenas, combina distintos tipos de datos y ejecuta todo al momento de correr el código\n",
    "print(frase_2)"
   ]
  },
  {
   "cell_type": "code",
   "execution_count": 92,
   "metadata": {},
   "outputs": [
    {
     "name": "stdout",
     "output_type": "stream",
     "text": [
      "Hola Mundo! 3 veces\n"
     ]
    }
   ],
   "source": [
    "frase_3 = \"{} {} veces\".format(frase, val) #Dar formato con .format (también ejecuta todo al momento de correr el código)\n",
    "print(frase_3)"
   ]
  }
 ],
 "metadata": {
  "kernelspec": {
   "display_name": "Python 3",
   "language": "python",
   "name": "python3"
  },
  "language_info": {
   "codemirror_mode": {
    "name": "ipython",
    "version": 3
   },
   "file_extension": ".py",
   "mimetype": "text/x-python",
   "name": "python",
   "nbconvert_exporter": "python",
   "pygments_lexer": "ipython3",
   "version": "3.10.11"
  },
  "orig_nbformat": 4
 },
 "nbformat": 4,
 "nbformat_minor": 2
}
