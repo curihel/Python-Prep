{
 "cells": [
  {
   "attachments": {},
   "cell_type": "markdown",
   "metadata": {},
   "source": [
    "Estructura condicional (Sentencias if, elif y else)"
   ]
  },
  {
   "attachments": {},
   "cell_type": "markdown",
   "metadata": {},
   "source": [
    "Sintaxis de if:\n",
    "\n",
    "if condición:\n",
    "    #Código que quiero que haga si la condición es verdadera"
   ]
  },
  {
   "cell_type": "code",
   "execution_count": 4,
   "metadata": {},
   "outputs": [
    {
     "name": "stdout",
     "output_type": "stream",
     "text": [
      "El número es positivo\n"
     ]
    }
   ],
   "source": [
    "numero = 5\n",
    "\n",
    "if numero > 0:\n",
    "    print(\"El número es positivo\")"
   ]
  },
  {
   "cell_type": "code",
   "execution_count": 16,
   "metadata": {},
   "outputs": [
    {
     "name": "stdout",
     "output_type": "stream",
     "text": [
      "El número -5 es negativo\n"
     ]
    }
   ],
   "source": [
    "numero = -5\n",
    "\n",
    "if numero > 0:\n",
    "    print(f\"El número {numero} es positivo\")\n",
    "elif numero < 0: #elif permite que si no se cumplió la condición anterior, probar con esta siguiente\n",
    "    print(f\"El número {numero} es negativo\")\n"
   ]
  },
  {
   "cell_type": "code",
   "execution_count": 22,
   "metadata": {},
   "outputs": [
    {
     "name": "stdout",
     "output_type": "stream",
     "text": [
      "El número es cero\n"
     ]
    }
   ],
   "source": [
    "numero = 0\n",
    "\n",
    "if numero > 0:\n",
    "    print(f\"El número {numero} es positivo\")\n",
    "elif numero < 0:\n",
    "    print(f\"El número {numero} es negativo\")\n",
    "else: #No es necesario escribir la condición, ya que es todo lo que no se cumplió en las condiciones anteriores\n",
    "    print(\"El número es cero\")"
   ]
  },
  {
   "attachments": {},
   "cell_type": "markdown",
   "metadata": {},
   "source": [
    "Ciclos iterativos"
   ]
  },
  {
   "attachments": {},
   "cell_type": "markdown",
   "metadata": {},
   "source": [
    "For loop\n",
    "\n",
    "por cada elemento en la secuencia\n",
    "\n",
    "for elemento in secuencia:\n",
    "    hace esto..."
   ]
  },
  {
   "cell_type": "code",
   "execution_count": 31,
   "metadata": {},
   "outputs": [
    {
     "name": "stdout",
     "output_type": "stream",
     "text": [
      "1\n",
      "2\n",
      "3\n",
      "4\n",
      "5\n",
      "6\n"
     ]
    }
   ],
   "source": [
    "lista_num = [1, 2, 3, 4, 5, 6] #Tipo de dato que se llama lista que será explicado en la siguiente clase\n",
    "#Se irá por cada elemento de la lista para imprimirlo en la pantalla\n",
    "for numero in lista_num:\n",
    "    print(numero)"
   ]
  },
  {
   "cell_type": "code",
   "execution_count": 25,
   "metadata": {},
   "outputs": [
    {
     "name": "stdout",
     "output_type": "stream",
     "text": [
      "El número es: 1\n",
      "El número es: 2\n",
      "El número es: 3\n",
      "El número es: 4\n",
      "El número es: 5\n",
      "El número es: 6\n"
     ]
    }
   ],
   "source": [
    "lista_num = [1, 2, 3, 4, 5, 6]\n",
    "\n",
    "for numero in lista_num:\n",
    "    print(f\"El número es: {numero}\")"
   ]
  },
  {
   "cell_type": "code",
   "execution_count": 30,
   "metadata": {},
   "outputs": [
    {
     "name": "stdout",
     "output_type": "stream",
     "text": [
      "1\n",
      "2\n",
      "3\n",
      "4\n",
      "5\n",
      "6\n"
     ]
    }
   ],
   "source": [
    "for n in range(1,7): #Imprime una serie de números. Range no considera el último valor que se escribe, se queda con uno antes del último\n",
    "    print(n)"
   ]
  },
  {
   "attachments": {},
   "cell_type": "markdown",
   "metadata": {},
   "source": [
    "while"
   ]
  },
  {
   "cell_type": "code",
   "execution_count": 33,
   "metadata": {},
   "outputs": [
    {
     "name": "stdout",
     "output_type": "stream",
     "text": [
      "1\n",
      "2\n",
      "3\n",
      "4\n",
      "5\n",
      "6\n",
      "7\n",
      "8\n",
      "9\n"
     ]
    }
   ],
   "source": [
    "n = 1\n",
    "while (n < 10): #Es un contador\n",
    "    print(n)\n",
    "    n += 1\n"
   ]
  },
  {
   "attachments": {},
   "cell_type": "markdown",
   "metadata": {},
   "source": [
    "Sentencias break y continue"
   ]
  },
  {
   "cell_type": "code",
   "execution_count": 43,
   "metadata": {},
   "outputs": [
    {
     "name": "stdout",
     "output_type": "stream",
     "text": [
      "4\n",
      "3\n",
      "2\n",
      "1\n",
      "0\n",
      "Fin del ciclo\n"
     ]
    }
   ],
   "source": [
    "x = 5\n",
    "\n",
    "while True:\n",
    "    x -= 1\n",
    "    print(x)\n",
    "    if x == 0:\n",
    "        break #Frena el ciclo\n",
    "\n",
    "print(\"Fin del ciclo\")"
   ]
  },
  {
   "cell_type": "code",
   "execution_count": 45,
   "metadata": {},
   "outputs": [
    {
     "name": "stdout",
     "output_type": "stream",
     "text": [
      "P\n",
      "y\n",
      "h\n",
      "o\n",
      "n\n"
     ]
    }
   ],
   "source": [
    "cadena = \"Python\"\n",
    "\n",
    "for letra in cadena:\n",
    "    if letra == \"t\":\n",
    "        continue\n",
    "\n",
    "    print(letra)"
   ]
  },
  {
   "attachments": {},
   "cell_type": "markdown",
   "metadata": {},
   "source": [
    "Función input()"
   ]
  },
  {
   "cell_type": "code",
   "execution_count": 47,
   "metadata": {},
   "outputs": [
    {
     "name": "stdout",
     "output_type": "stream",
     "text": [
      "Eduardo\n",
      "<class 'str'>\n"
     ]
    }
   ],
   "source": [
    "a = input()\n",
    "print(a)\n",
    "print(type(a))"
   ]
  },
  {
   "cell_type": "code",
   "execution_count": 48,
   "metadata": {},
   "outputs": [
    {
     "name": "stdout",
     "output_type": "stream",
     "text": [
      "5\n",
      "<class 'str'>\n"
     ]
    }
   ],
   "source": [
    "a = input(\"Ingrese un número mayor a 0\")\n",
    "print(a)\n",
    "print(type(a))"
   ]
  },
  {
   "cell_type": "code",
   "execution_count": 49,
   "metadata": {},
   "outputs": [
    {
     "name": "stdout",
     "output_type": "stream",
     "text": [
      "50\n",
      "<class 'int'>\n"
     ]
    }
   ],
   "source": [
    "a = input(\"Ingrese un número mayor a 0\")\n",
    "a = int(a) #Está convirtiendo el dato que se ingresó (se pide un número) a número, ya que lo detecta como string.\n",
    "print(a)\n",
    "print(type(a))"
   ]
  }
 ],
 "metadata": {
  "kernelspec": {
   "display_name": "Python 3",
   "language": "python",
   "name": "python3"
  },
  "language_info": {
   "codemirror_mode": {
    "name": "ipython",
    "version": 3
   },
   "file_extension": ".py",
   "mimetype": "text/x-python",
   "name": "python",
   "nbconvert_exporter": "python",
   "pygments_lexer": "ipython3",
   "version": "3.10.11"
  },
  "orig_nbformat": 4
 },
 "nbformat": 4,
 "nbformat_minor": 2
}
